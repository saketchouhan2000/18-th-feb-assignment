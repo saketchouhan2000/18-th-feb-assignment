{
 "cells": [
  {
   "cell_type": "code",
   "execution_count": 1,
   "id": "9cdc6919-8aba-4275-9c54-e9f8793f78f8",
   "metadata": {},
   "outputs": [],
   "source": [
    "# Q1. What is an API? Give an example, where an API is used in real life."
   ]
  },
  {
   "cell_type": "code",
   "execution_count": 2,
   "id": "a5924d38-46ac-49d0-8f28-d8948d898473",
   "metadata": {},
   "outputs": [],
   "source": [
    "# Ans = API is Application programming interface . it is a set of protocals, routine , and tools for building\n",
    "# software and application that specify how different software componennts interacts with each other.\n",
    "# for Exammple when we use payment application at that time our apps api provides a set of predefined rules and protocals\n",
    "# that enable the apps to send and receive the information with our banks."
   ]
  },
  {
   "cell_type": "code",
   "execution_count": 3,
   "id": "ce9ca0c2-6b82-4151-b787-2eff37bc79ac",
   "metadata": {},
   "outputs": [],
   "source": [
    "# Q2. Give advantages and disadvantages of using API."
   ]
  },
  {
   "cell_type": "code",
   "execution_count": 4,
   "id": "18c3a8d4-a211-47c3-80de-fe203bb79b8a",
   "metadata": {},
   "outputs": [],
   "source": [
    "# Ans = Advantages improved efficiency: APIs can streamline the development process by allowing developers to reuse existing code and functionality. This can save time and reduce costs.\n",
    "# Better integration : APIs can facilitate integration between different software application and platforms , enabling seamless data exchange and communication.\n",
    "# Increased Innovation: APIs can spark innovation by providing developers with new tools and opportunities to build unique applications and services.\n",
    "# Disadvantage Complexity: APIs can be complex and require a certain level of technical expertise to develop and integrate. This can be a barrier to entry for some developers.\n",
    "# Security Risk: APIs can create security risk if the are not properly secured and maintained.\n",
    "# Dependency: APIs can create a dependency on external service and platforms, whic can be problematic if those services are disrupted or unavailable."
   ]
  },
  {
   "cell_type": "code",
   "execution_count": 5,
   "id": "2d0ccfeb-35a4-4732-8aea-343c98383380",
   "metadata": {},
   "outputs": [],
   "source": [
    "# Q3. What is a Web API? Differentiate between API and Web API."
   ]
  },
  {
   "cell_type": "code",
   "execution_count": 6,
   "id": "0956dcad-ec87-43a6-8409-6f7bdf60bf8c",
   "metadata": {},
   "outputs": [],
   "source": [
    "# Ans = A web API is a type of API that uses the HTTP protocal to communicate client and server application over the internet.\n",
    "# it enable developers to build web-based applications that can communicate and exchange data with over applications.\n",
    "# Difference Communication protocol: APIs can use a variety of communication protocols, web APIs specifically use the HTTP protocol.\n",
    "# Data Format : APIs can use a variety of data formats such as json, xml, or binary data, while web APIs typically use JSON or XML."
   ]
  },
  {
   "cell_type": "code",
   "execution_count": 7,
   "id": "5948e96b-d924-4577-8234-d7077dd0c53e",
   "metadata": {},
   "outputs": [],
   "source": [
    "# Q4. Explain REST and SOAP Architecture. Mention shortcomings of SOAP."
   ]
  },
  {
   "cell_type": "code",
   "execution_count": 8,
   "id": "d5ecd900-8e53-4435-a58f-efffb30ae0b1",
   "metadata": {},
   "outputs": [],
   "source": [
    "# Ans = REST architecture is a lightweight and simple architecture that uses HTTP to communicate betweent the client and the\n",
    "# server. It is a stateless architecture where each request from the client to the server contains all the necessary information \n",
    "# to complete the request . the requested data in a format like JSON or XML.\n",
    "# SOAP architecture, is a more more complex architecture that uses XML for communication and can work with many different protocols.\n",
    "# it is a stateful architecture where conversion is maintained between the client and the server during the entire exchange. \n",
    "# SOAP also includes more advanced features like transactions, security, and reliability.\n",
    "# Shortcomings of SOAP: Complexity: The SOAP protocol can be very complex, making difficult to understand and implement.\n",
    "# Overhead: SOAP messages can be quite large and require significant network bandwith, which can impact performance.\n",
    "# Performance: The Stateful nature of SOAP can make it less performant than stateless architecture like REST."
   ]
  },
  {
   "cell_type": "code",
   "execution_count": 9,
   "id": "d65ef6af-d8ea-4c7b-b733-918c02b90491",
   "metadata": {},
   "outputs": [],
   "source": [
    "# Q5. Differentiate between REST and SOAP."
   ]
  },
  {
   "cell_type": "code",
   "execution_count": 10,
   "id": "b55396cf-6330-49d5-afc7-4ab6128b5ee6",
   "metadata": {},
   "outputs": [],
   "source": [
    "# Ans = Differences: Communication Protocol: REST uses the HTTP protocol to communicate between the client and the server,\n",
    "# while SOAP can use various communication protocols such as HTTP, SMTP, or TCP.\n",
    "# Data Format: REST primarily uses JSON or XML for data format, while SOAP uses only XML.\n",
    "# Message Structure: In REST, each request from the client to the server contains all the necessary information to \n",
    "# complete the request. The response from the server contains only the requested data. In SOAP, the message structure is more \n",
    "# complex, with a SOAP envelope that contains a SOAP header and a SOAP body.\n",
    "# Ease of Use: REST is typically easier to use and understand than SOAP because it is more lightweight and simpler to implement."
   ]
  },
  {
   "cell_type": "code",
   "execution_count": null,
   "id": "65683065-cc0e-457a-ac87-21baa285b86c",
   "metadata": {},
   "outputs": [],
   "source": []
  }
 ],
 "metadata": {
  "kernelspec": {
   "display_name": "Python 3 (ipykernel)",
   "language": "python",
   "name": "python3"
  },
  "language_info": {
   "codemirror_mode": {
    "name": "ipython",
    "version": 3
   },
   "file_extension": ".py",
   "mimetype": "text/x-python",
   "name": "python",
   "nbconvert_exporter": "python",
   "pygments_lexer": "ipython3",
   "version": "3.10.8"
  }
 },
 "nbformat": 4,
 "nbformat_minor": 5
}
